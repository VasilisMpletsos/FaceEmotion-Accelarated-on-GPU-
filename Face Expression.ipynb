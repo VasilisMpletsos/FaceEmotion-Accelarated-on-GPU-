{
  "nbformat": 4,
  "nbformat_minor": 0,
  "metadata": {
    "colab": {
      "name": "Face Expression",
      "provenance": [],
      "collapsed_sections": [],
      "machine_shape": "hm"
    },
    "kernelspec": {
      "name": "python3",
      "display_name": "Python 3"
    },
    "accelerator": "GPU"
  },
  "cells": [
    {
      "cell_type": "markdown",
      "metadata": {
        "id": "swGxgIFcGfVt",
        "colab_type": "text"
      },
      "source": [
        "# Face Emotion Computer Vision"
      ]
    },
    {
      "cell_type": "code",
      "metadata": {
        "id": "yYxJVZjPHGpf",
        "colab_type": "code",
        "colab": {
          "base_uri": "https://localhost:8080/",
          "height": 34
        },
        "outputId": "0616d5bb-ed04-4517-b4a5-c136907e2634"
      },
      "source": [
        "%tensorflow_version 2.x"
      ],
      "execution_count": 1,
      "outputs": [
        {
          "output_type": "stream",
          "text": [
            "TensorFlow 2.x selected.\n"
          ],
          "name": "stdout"
        }
      ]
    },
    {
      "cell_type": "code",
      "metadata": {
        "id": "3CBouMV-GijO",
        "colab_type": "code",
        "colab": {}
      },
      "source": [
        "import tensorflow as tf\n",
        "import os\n",
        "import tensorflow_hub as hub\n",
        "import matplotlib.pyplot as plt"
      ],
      "execution_count": 0,
      "outputs": []
    },
    {
      "cell_type": "code",
      "metadata": {
        "id": "jd25nh1f0Y8b",
        "colab_type": "code",
        "colab": {}
      },
      "source": [
        "from __future__ import absolute_import, division, print_function, unicode_literals\n",
        "\n",
        "import tensorflow as tf\n",
        "\n",
        "from tensorflow.keras.layers import Dense, Flatten, Conv2D, MaxPool2D\n",
        "from tensorflow.keras import Model"
      ],
      "execution_count": 0,
      "outputs": []
    },
    {
      "cell_type": "code",
      "metadata": {
        "id": "YLSgQA5xHQIC",
        "colab_type": "code",
        "colab": {
          "base_uri": "https://localhost:8080/",
          "height": 34
        },
        "outputId": "58acb1a3-074c-47fc-f3b3-ac0b657843d2"
      },
      "source": [
        "print(\"TF version:\", tf.__version__)"
      ],
      "execution_count": 4,
      "outputs": [
        {
          "output_type": "stream",
          "text": [
            "TF version: 2.1.0\n"
          ],
          "name": "stdout"
        }
      ]
    },
    {
      "cell_type": "markdown",
      "metadata": {
        "id": "IiIk9sk2HtjY",
        "colab_type": "text"
      },
      "source": [
        "Good now we have the latest TensorFlow Version"
      ]
    },
    {
      "cell_type": "code",
      "metadata": {
        "id": "GjDsaPiRHxFa",
        "colab_type": "code",
        "colab": {}
      },
      "source": [
        "import pandas as pd\n",
        "import numpy as np"
      ],
      "execution_count": 0,
      "outputs": []
    },
    {
      "cell_type": "markdown",
      "metadata": {
        "id": "RccF0c5aIFoX",
        "colab_type": "text"
      },
      "source": [
        "Now we have to unzip the file from Google Drive"
      ]
    },
    {
      "cell_type": "code",
      "metadata": {
        "id": "fc1oa3KpH26v",
        "colab_type": "code",
        "colab": {}
      },
      "source": [
        "#!unzip \"/content/drive/My Drive/Faces Expression/FacesExpressions.zip\" -d \"/content/drive/My Drive/Faces Expression\""
      ],
      "execution_count": 0,
      "outputs": []
    },
    {
      "cell_type": "code",
      "metadata": {
        "id": "xq1r1ZnNI3CW",
        "colab_type": "code",
        "colab": {}
      },
      "source": [
        "train = pd.read_csv(\"drive/My Drive/Faces Expression/train.csv\")"
      ],
      "execution_count": 0,
      "outputs": []
    },
    {
      "cell_type": "code",
      "metadata": {
        "id": "v-5buq5nJBDq",
        "colab_type": "code",
        "colab": {
          "base_uri": "https://localhost:8080/",
          "height": 204
        },
        "outputId": "0708c6e9-6a3a-4405-a42a-7a4a151f826f"
      },
      "source": [
        "train.head()"
      ],
      "execution_count": 8,
      "outputs": [
        {
          "output_type": "execute_result",
          "data": {
            "text/html": [
              "<div>\n",
              "<style scoped>\n",
              "    .dataframe tbody tr th:only-of-type {\n",
              "        vertical-align: middle;\n",
              "    }\n",
              "\n",
              "    .dataframe tbody tr th {\n",
              "        vertical-align: top;\n",
              "    }\n",
              "\n",
              "    .dataframe thead th {\n",
              "        text-align: right;\n",
              "    }\n",
              "</style>\n",
              "<table border=\"1\" class=\"dataframe\">\n",
              "  <thead>\n",
              "    <tr style=\"text-align: right;\">\n",
              "      <th></th>\n",
              "      <th>emotion</th>\n",
              "      <th>pixels</th>\n",
              "    </tr>\n",
              "  </thead>\n",
              "  <tbody>\n",
              "    <tr>\n",
              "      <th>0</th>\n",
              "      <td>0</td>\n",
              "      <td>70 80 82 72 58 58 60 63 54 58 60 48 89 115 121...</td>\n",
              "    </tr>\n",
              "    <tr>\n",
              "      <th>1</th>\n",
              "      <td>0</td>\n",
              "      <td>151 150 147 155 148 133 111 140 170 174 182 15...</td>\n",
              "    </tr>\n",
              "    <tr>\n",
              "      <th>2</th>\n",
              "      <td>2</td>\n",
              "      <td>231 212 156 164 174 138 161 173 182 200 106 38...</td>\n",
              "    </tr>\n",
              "    <tr>\n",
              "      <th>3</th>\n",
              "      <td>4</td>\n",
              "      <td>24 32 36 30 32 23 19 20 30 41 21 22 32 34 21 1...</td>\n",
              "    </tr>\n",
              "    <tr>\n",
              "      <th>4</th>\n",
              "      <td>6</td>\n",
              "      <td>4 0 0 0 0 0 0 0 0 0 0 0 3 15 23 28 48 50 58 84...</td>\n",
              "    </tr>\n",
              "  </tbody>\n",
              "</table>\n",
              "</div>"
            ],
            "text/plain": [
              "   emotion                                             pixels\n",
              "0        0  70 80 82 72 58 58 60 63 54 58 60 48 89 115 121...\n",
              "1        0  151 150 147 155 148 133 111 140 170 174 182 15...\n",
              "2        2  231 212 156 164 174 138 161 173 182 200 106 38...\n",
              "3        4  24 32 36 30 32 23 19 20 30 41 21 22 32 34 21 1...\n",
              "4        6  4 0 0 0 0 0 0 0 0 0 0 0 3 15 23 28 48 50 58 84..."
            ]
          },
          "metadata": {
            "tags": []
          },
          "execution_count": 8
        }
      ]
    },
    {
      "cell_type": "code",
      "metadata": {
        "id": "zOF0VvGWJMwi",
        "colab_type": "code",
        "colab": {
          "base_uri": "https://localhost:8080/",
          "height": 153
        },
        "outputId": "a7e709eb-a117-4e0f-de0b-6747175a5b47"
      },
      "source": [
        "train[\"emotion\"].value_counts()"
      ],
      "execution_count": 9,
      "outputs": [
        {
          "output_type": "execute_result",
          "data": {
            "text/plain": [
              "3    7215\n",
              "6    4965\n",
              "4    4830\n",
              "2    4097\n",
              "0    3995\n",
              "5    3171\n",
              "1     436\n",
              "Name: emotion, dtype: int64"
            ]
          },
          "metadata": {
            "tags": []
          },
          "execution_count": 9
        }
      ]
    },
    {
      "cell_type": "markdown",
      "metadata": {
        "id": "LH08N5BiJXl8",
        "colab_type": "text"
      },
      "source": [
        "As we can see there are 7 difgferent emotions:\n",
        "*  0 = Angry\n",
        "*  1 = Disgust\n",
        "*  2 = Fear\n",
        "*  3 = Happy\n",
        "*  4 = Sad\n",
        "*  5 = Surprise\n",
        "*  6 = Neutral\n",
        "\n"
      ]
    },
    {
      "cell_type": "markdown",
      "metadata": {
        "id": "hzJq7av7KI_2",
        "colab_type": "text"
      },
      "source": [
        "train.csv contains two columns, \"emotion\" and \"pixels\". The \"emotion\" column contains a numeric code ranging from 0 to 6, inclusive, for the emotion that is present in the image. The \"pixels\" column contains a string surrounded in quotes for each image. ***The contents of this string a space-separated pixel values in row major order. test.csv contains only the \"pixels\" column and your task is to predict the emotion column***.The training set consists of 28,709 examples. The public test set used for the leaderboard consists of** 3,589 examples**. The final test set, which was used to determine the winner of the competition, consists of another 3,589 examples."
      ]
    },
    {
      "cell_type": "code",
      "metadata": {
        "id": "5L36mmzrKod0",
        "colab_type": "code",
        "colab": {
          "base_uri": "https://localhost:8080/",
          "height": 136
        },
        "outputId": "68b24dd1-6045-4e92-c13d-3cc75bf046a1"
      },
      "source": [
        "train.info()"
      ],
      "execution_count": 10,
      "outputs": [
        {
          "output_type": "stream",
          "text": [
            "<class 'pandas.core.frame.DataFrame'>\n",
            "RangeIndex: 28709 entries, 0 to 28708\n",
            "Data columns (total 2 columns):\n",
            "emotion    28709 non-null int64\n",
            "pixels     28709 non-null object\n",
            "dtypes: int64(1), object(1)\n",
            "memory usage: 448.7+ KB\n"
          ],
          "name": "stdout"
        }
      ]
    },
    {
      "cell_type": "code",
      "metadata": {
        "id": "5CPeMDfvLHW8",
        "colab_type": "code",
        "colab": {
          "base_uri": "https://localhost:8080/",
          "height": 68
        },
        "outputId": "7207d46f-ae9f-4417-99e4-efe864111c27"
      },
      "source": [
        "train.isna().sum()"
      ],
      "execution_count": 11,
      "outputs": [
        {
          "output_type": "execute_result",
          "data": {
            "text/plain": [
              "emotion    0\n",
              "pixels     0\n",
              "dtype: int64"
            ]
          },
          "metadata": {
            "tags": []
          },
          "execution_count": 11
        }
      ]
    },
    {
      "cell_type": "code",
      "metadata": {
        "id": "EOEasEEVLL07",
        "colab_type": "code",
        "colab": {
          "base_uri": "https://localhost:8080/",
          "height": 221
        },
        "outputId": "36cae280-e60c-45fa-b9be-9bf22513e764"
      },
      "source": [
        "train.pixels"
      ],
      "execution_count": 12,
      "outputs": [
        {
          "output_type": "execute_result",
          "data": {
            "text/plain": [
              "0        70 80 82 72 58 58 60 63 54 58 60 48 89 115 121...\n",
              "1        151 150 147 155 148 133 111 140 170 174 182 15...\n",
              "2        231 212 156 164 174 138 161 173 182 200 106 38...\n",
              "3        24 32 36 30 32 23 19 20 30 41 21 22 32 34 21 1...\n",
              "4        4 0 0 0 0 0 0 0 0 0 0 0 3 15 23 28 48 50 58 84...\n",
              "                               ...                        \n",
              "28704    84 85 85 85 85 85 85 85 86 86 86 87 86 86 91 9...\n",
              "28705    114 112 113 113 111 111 112 113 115 113 114 11...\n",
              "28706    74 81 87 89 95 100 98 93 105 120 127 133 146 1...\n",
              "28707    222 227 203 90 86 90 84 77 94 87 99 119 134 14...\n",
              "28708    195 199 205 206 205 203 206 209 208 210 212 21...\n",
              "Name: pixels, Length: 28709, dtype: object"
            ]
          },
          "metadata": {
            "tags": []
          },
          "execution_count": 12
        }
      ]
    },
    {
      "cell_type": "code",
      "metadata": {
        "id": "OLtLK-WFFjqn",
        "colab_type": "code",
        "colab": {}
      },
      "source": [
        "test = train[25001:28709]\n",
        "train2 = train[:25001]"
      ],
      "execution_count": 0,
      "outputs": []
    },
    {
      "cell_type": "code",
      "metadata": {
        "id": "pBx1RZ_NNq5N",
        "colab_type": "code",
        "colab": {}
      },
      "source": [
        "# As we can see the pixels data are in String Format so let's play around and convert to numpy arrays\n",
        "sentence1 = train.pixels[0].split(\" \")"
      ],
      "execution_count": 0,
      "outputs": []
    },
    {
      "cell_type": "code",
      "metadata": {
        "id": "98UdjEqGQWPB",
        "colab_type": "code",
        "colab": {}
      },
      "source": [
        "pixels2 = []\n",
        "pixels3 = []"
      ],
      "execution_count": 0,
      "outputs": []
    },
    {
      "cell_type": "code",
      "metadata": {
        "id": "sst2rSeSTXTE",
        "colab_type": "code",
        "colab": {
          "base_uri": "https://localhost:8080/",
          "height": 34
        },
        "outputId": "c2e4b7ee-781d-474f-d0fb-fd0cbd45e8f4"
      },
      "source": [
        "type(pixels2)"
      ],
      "execution_count": 16,
      "outputs": [
        {
          "output_type": "execute_result",
          "data": {
            "text/plain": [
              "list"
            ]
          },
          "metadata": {
            "tags": []
          },
          "execution_count": 16
        }
      ]
    },
    {
      "cell_type": "code",
      "metadata": {
        "id": "BL4hK-PMHO35",
        "colab_type": "code",
        "colab": {
          "base_uri": "https://localhost:8080/",
          "height": 221
        },
        "outputId": "a6731f0b-91d8-410e-a0df-667757ae7b41"
      },
      "source": [
        "test.pixels"
      ],
      "execution_count": 17,
      "outputs": [
        {
          "output_type": "execute_result",
          "data": {
            "text/plain": [
              "25001    204 209 193 187 204 221 179 174 205 200 148 14...\n",
              "25002    255 255 255 254 252 255 207 118 130 114 93 72 ...\n",
              "25003    255 255 255 255 255 255 255 255 255 255 255 25...\n",
              "25004    5 5 6 5 5 6 6 9 17 31 41 42 44 58 72 84 94 99 ...\n",
              "25005    166 190 242 254 140 64 53 65 70 88 106 110 116...\n",
              "                               ...                        \n",
              "28704    84 85 85 85 85 85 85 85 86 86 86 87 86 86 91 9...\n",
              "28705    114 112 113 113 111 111 112 113 115 113 114 11...\n",
              "28706    74 81 87 89 95 100 98 93 105 120 127 133 146 1...\n",
              "28707    222 227 203 90 86 90 84 77 94 87 99 119 134 14...\n",
              "28708    195 199 205 206 205 203 206 209 208 210 212 21...\n",
              "Name: pixels, Length: 3708, dtype: object"
            ]
          },
          "metadata": {
            "tags": []
          },
          "execution_count": 17
        }
      ]
    },
    {
      "cell_type": "code",
      "metadata": {
        "id": "D0rkSk_tTTg7",
        "colab_type": "code",
        "colab": {}
      },
      "source": [
        "for i in range (0,len(train2.pixels)): \n",
        "  pixels2.append(train2.pixels[i].split(\" \"))\n",
        "\n",
        "for i in range (25001,28709): \n",
        "  pixels3.append(test.pixels[i].split(\" \"))"
      ],
      "execution_count": 0,
      "outputs": []
    },
    {
      "cell_type": "code",
      "metadata": {
        "id": "In8IjxvGVIEM",
        "colab_type": "code",
        "colab": {
          "base_uri": "https://localhost:8080/",
          "height": 34
        },
        "outputId": "97308863-2b2f-4fbc-ce58-88f1370f3ee6"
      },
      "source": [
        "len(pixels2)"
      ],
      "execution_count": 19,
      "outputs": [
        {
          "output_type": "execute_result",
          "data": {
            "text/plain": [
              "25001"
            ]
          },
          "metadata": {
            "tags": []
          },
          "execution_count": 19
        }
      ]
    },
    {
      "cell_type": "code",
      "metadata": {
        "id": "E3WOoIuCYRnb",
        "colab_type": "code",
        "colab": {
          "base_uri": "https://localhost:8080/",
          "height": 34
        },
        "outputId": "e423d9de-58d1-4888-92eb-572106aa2a45"
      },
      "source": [
        "len(pixels2[4])"
      ],
      "execution_count": 20,
      "outputs": [
        {
          "output_type": "execute_result",
          "data": {
            "text/plain": [
              "2304"
            ]
          },
          "metadata": {
            "tags": []
          },
          "execution_count": 20
        }
      ]
    },
    {
      "cell_type": "code",
      "metadata": {
        "id": "kvfixwuLeKog",
        "colab_type": "code",
        "colab": {}
      },
      "source": [
        "Array = np.asarray(pixels2)\n",
        "Array2 = np.asarray(pixels3)"
      ],
      "execution_count": 0,
      "outputs": []
    },
    {
      "cell_type": "code",
      "metadata": {
        "id": "sByYIrsfYuDK",
        "colab_type": "code",
        "colab": {
          "base_uri": "https://localhost:8080/",
          "height": 34
        },
        "outputId": "65ac7814-8f03-4d0e-d1d8-ccb77f6b44ba"
      },
      "source": [
        "Array.shape,Array2.shape"
      ],
      "execution_count": 22,
      "outputs": [
        {
          "output_type": "execute_result",
          "data": {
            "text/plain": [
              "((25001, 2304), (3708, 2304))"
            ]
          },
          "metadata": {
            "tags": []
          },
          "execution_count": 22
        }
      ]
    },
    {
      "cell_type": "code",
      "metadata": {
        "id": "sWtEUt8wZu1N",
        "colab_type": "code",
        "colab": {
          "base_uri": "https://localhost:8080/",
          "height": 34
        },
        "outputId": "d89a084d-ca95-4b0d-dbd2-e7f6aa4374f3"
      },
      "source": [
        "print(f\"As it was mentionted we have 48*48 = {48*48} pixels\")"
      ],
      "execution_count": 23,
      "outputs": [
        {
          "output_type": "stream",
          "text": [
            "As it was mentionted we have 48*48 = 2304 pixels\n"
          ],
          "name": "stdout"
        }
      ]
    },
    {
      "cell_type": "code",
      "metadata": {
        "id": "2nYfxEv2a9bI",
        "colab_type": "code",
        "colab": {
          "base_uri": "https://localhost:8080/",
          "height": 34
        },
        "outputId": "d28068b3-9a7c-43a0-9ccc-f1d6843c258b"
      },
      "source": [
        "type(Array)"
      ],
      "execution_count": 24,
      "outputs": [
        {
          "output_type": "execute_result",
          "data": {
            "text/plain": [
              "numpy.ndarray"
            ]
          },
          "metadata": {
            "tags": []
          },
          "execution_count": 24
        }
      ]
    },
    {
      "cell_type": "code",
      "metadata": {
        "id": "Uk_nJ88sb2SD",
        "colab_type": "code",
        "colab": {
          "base_uri": "https://localhost:8080/",
          "height": 496
        },
        "outputId": "4d041a99-27eb-4851-8ffb-30b349db5632"
      },
      "source": [
        "train[\"emotion\"].value_counts().plot.bar(figsize=(12, 8),color=[\"Red\",\"Green\",\"Blue\",\"Cyan\",\"Purple\",\"Yellow\",\"Black\"],edgecolor=\"Black\")"
      ],
      "execution_count": 25,
      "outputs": [
        {
          "output_type": "execute_result",
          "data": {
            "text/plain": [
              "<matplotlib.axes._subplots.AxesSubplot at 0x7f6793881828>"
            ]
          },
          "metadata": {
            "tags": []
          },
          "execution_count": 25
        },
        {
          "output_type": "display_data",
          "data": {
            "image/png": "[encoded data removed]",
            "text/plain": [
              "<Figure size 864x576 with 1 Axes>"
            ]
          },
          "metadata": {
            "tags": []
          }
        }
      ]
    },
    {
      "cell_type": "markdown",
      "metadata": {
        "id": "ycXsBrPcfOso",
        "colab_type": "text"
      },
      "source": [
        "**As we can see there are many Happy faces**"
      ]
    },
    {
      "cell_type": "code",
      "metadata": {
        "id": "DPSQtpiHfTz6",
        "colab_type": "code",
        "colab": {}
      },
      "source": [
        "Array = Array.reshape(25001,48,48)\n",
        "Array2 = Array2.reshape(3708,48,48)"
      ],
      "execution_count": 0,
      "outputs": []
    },
    {
      "cell_type": "code",
      "metadata": {
        "id": "ezttN_IsfxDm",
        "colab_type": "code",
        "colab": {
          "base_uri": "https://localhost:8080/",
          "height": 34
        },
        "outputId": "873ebf92-2e6d-47e3-d857-7a29ac023eac"
      },
      "source": [
        "Array.shape"
      ],
      "execution_count": 27,
      "outputs": [
        {
          "output_type": "execute_result",
          "data": {
            "text/plain": [
              "(25001, 48, 48)"
            ]
          },
          "metadata": {
            "tags": []
          },
          "execution_count": 27
        }
      ]
    },
    {
      "cell_type": "code",
      "metadata": {
        "id": "S629RNfaf4m9",
        "colab_type": "code",
        "colab": {
          "base_uri": "https://localhost:8080/",
          "height": 34
        },
        "outputId": "c53cc71e-5684-471a-cea5-5a8a5568c694"
      },
      "source": [
        "print(Array.dtype) "
      ],
      "execution_count": 28,
      "outputs": [
        {
          "output_type": "stream",
          "text": [
            "<U3\n"
          ],
          "name": "stdout"
        }
      ]
    },
    {
      "cell_type": "code",
      "metadata": {
        "id": "hcWu0lXGf7fI",
        "colab_type": "code",
        "colab": {
          "base_uri": "https://localhost:8080/",
          "height": 284
        },
        "outputId": "230cec38-ded7-4f8c-b73e-5f6539137d76"
      },
      "source": [
        "# We must change the type of the numpy array in order to be able to plot it as an image.\n",
        " Array = Array.astype('float64')\n",
        " Array2 = Array2.astype('float64')\n",
        " plt.imshow(Array[1],cmap=\"gray\")"
      ],
      "execution_count": 29,
      "outputs": [
        {
          "output_type": "execute_result",
          "data": {
            "text/plain": [
              "<matplotlib.image.AxesImage at 0x7f67932c1eb8>"
            ]
          },
          "metadata": {
            "tags": []
          },
          "execution_count": 29
        },
        {
          "output_type": "display_data",
          "data": {
            "image/png": "[encoded data removed]",
            "text/plain": [
              "<Figure size 432x288 with 1 Axes>"
            ]
          },
          "metadata": {
            "tags": []
          }
        }
      ]
    },
    {
      "cell_type": "markdown",
      "metadata": {
        "id": "mt4OFILcoVA_",
        "colab_type": "text"
      },
      "source": [
        "As we can see from the dataframe he is Angry"
      ]
    },
    {
      "cell_type": "code",
      "metadata": {
        "id": "9cia2AjPdqmL",
        "colab_type": "code",
        "colab": {
          "base_uri": "https://localhost:8080/",
          "height": 284
        },
        "outputId": "8880e218-5e7d-45f2-d234-c67d48d7729d"
      },
      "source": [
        "plt.imshow(Array2[167],cmap=\"gray\")"
      ],
      "execution_count": 30,
      "outputs": [
        {
          "output_type": "execute_result",
          "data": {
            "text/plain": [
              "<matplotlib.image.AxesImage at 0x7f67932aeb70>"
            ]
          },
          "metadata": {
            "tags": []
          },
          "execution_count": 30
        },
        {
          "output_type": "display_data",
          "data": {
            "image/png": "[encoded data removed]",
            "text/plain": [
              "<Figure size 432x288 with 1 Axes>"
            ]
          },
          "metadata": {
            "tags": []
          }
        }
      ]
    },
    {
      "cell_type": "code",
      "metadata": {
        "id": "otBM-91TVHHq",
        "colab_type": "code",
        "colab": {}
      },
      "source": [
        "Array = np.expand_dims(Array,axis=3)\n",
        "Array2 = np.expand_dims(Array2,axis=3)"
      ],
      "execution_count": 0,
      "outputs": []
    },
    {
      "cell_type": "code",
      "metadata": {
        "id": "_yUDCjEEWs2u",
        "colab_type": "code",
        "colab": {
          "base_uri": "https://localhost:8080/",
          "height": 34
        },
        "outputId": "5e9a6cfc-4ce4-48ee-f055-99104268636f"
      },
      "source": [
        "Array.shape"
      ],
      "execution_count": 32,
      "outputs": [
        {
          "output_type": "execute_result",
          "data": {
            "text/plain": [
              "(25001, 48, 48, 1)"
            ]
          },
          "metadata": {
            "tags": []
          },
          "execution_count": 32
        }
      ]
    },
    {
      "cell_type": "code",
      "metadata": {
        "id": "wX3hPmr3H9gB",
        "colab_type": "code",
        "colab": {}
      },
      "source": [
        "X_train = tf.constant(Array.astype(\"float64\"))\n",
        "X_test = tf.constant(Array2.astype(\"float64\"))"
      ],
      "execution_count": 0,
      "outputs": []
    },
    {
      "cell_type": "code",
      "metadata": {
        "id": "bEO2eA1iXPAG",
        "colab_type": "code",
        "colab": {}
      },
      "source": [
        "X_train = X_train/255.0\n",
        "X_test = X_test/255.0\n",
        "y_train = tf.constant(train2[\"emotion\"].astype(\"float64\"))\n",
        "y_test = tf.constant(test[\"emotion\"].astype(\"float64\"))"
      ],
      "execution_count": 0,
      "outputs": []
    },
    {
      "cell_type": "code",
      "metadata": {
        "id": "JQsiYQbAXR2g",
        "colab_type": "code",
        "colab": {}
      },
      "source": [
        "train_ds = tf.data.Dataset.from_tensor_slices((X_train, y_train)).shuffle(10000).batch(32)\n",
        "test_ds = tf.data.Dataset.from_tensor_slices((X_test, y_test)).shuffle(10000).batch(32)"
      ],
      "execution_count": 0,
      "outputs": []
    },
    {
      "cell_type": "code",
      "metadata": {
        "id": "JVcQMgAqXius",
        "colab_type": "code",
        "colab": {}
      },
      "source": [
        "class MyModel(Model):\n",
        "  def __init__(self):\n",
        "    super(MyModel, self).__init__()\n",
        "    self.conv1 = Conv2D(32, 3, activation='relu')\n",
        "    self.pool1 = MaxPool2D()\n",
        "    self.conv2 = Conv2D(64, 3, activation='relu')\n",
        "    self.pool2 = MaxPool2D()\n",
        "    self.conv3 = Conv2D(64, 3, activation='relu')\n",
        "    self.pool3 = MaxPool2D()\n",
        "    self.flatten = Flatten()\n",
        "    self.d1 = Dense(128, activation='relu')\n",
        "    self.d2 = Dense(7)\n",
        "\n",
        "  def call(self, x):\n",
        "    x = self.conv1(x)\n",
        "    x = self.pool1(x)\n",
        "    x = self.conv2(x)\n",
        "    x = self.pool2(x)\n",
        "    x = self.conv3(x)\n",
        "    x = self.pool3(x)\n",
        "    x = self.flatten(x)\n",
        "    x = self.d1(x)\n",
        "    return self.d2(x)\n",
        "\n",
        "# Create an instance of the model\n",
        "model = MyModel()"
      ],
      "execution_count": 0,
      "outputs": []
    },
    {
      "cell_type": "code",
      "metadata": {
        "id": "TTp0FOLN0cU7",
        "colab_type": "code",
        "colab": {}
      },
      "source": [
        "loss_object = tf.keras.losses.SparseCategoricalCrossentropy(from_logits=True)\n",
        "optimizer = tf.keras.optimizers.Adam()"
      ],
      "execution_count": 0,
      "outputs": []
    },
    {
      "cell_type": "code",
      "metadata": {
        "id": "hGgpiznQ0hOq",
        "colab_type": "code",
        "colab": {}
      },
      "source": [
        "train_loss = tf.keras.metrics.Mean(name='train_loss')\n",
        "train_accuracy = tf.keras.metrics.SparseCategoricalAccuracy(name='train_accuracy')\n",
        "test_loss = tf.keras.metrics.Mean(name='train_loss')\n",
        "test_accuracy = tf.keras.metrics.SparseCategoricalAccuracy(name='train_accuracy')"
      ],
      "execution_count": 0,
      "outputs": []
    },
    {
      "cell_type": "code",
      "metadata": {
        "id": "RBVUvsxX0jWC",
        "colab_type": "code",
        "colab": {}
      },
      "source": [
        "@tf.function\n",
        "def train_step(images, labels):\n",
        "  with tf.GradientTape() as tape:\n",
        "    # training=True is only needed if there are layers with different\n",
        "    # behavior during training versus inference (e.g. Dropout).\n",
        "    predictions = model(images, training=True)\n",
        "    loss = loss_object(labels, predictions)\n",
        "  gradients = tape.gradient(loss, model.trainable_variables)\n",
        "  optimizer.apply_gradients(zip(gradients, model.trainable_variables))\n",
        "\n",
        "  train_loss(loss)\n",
        "  train_accuracy(labels, predictions)"
      ],
      "execution_count": 0,
      "outputs": []
    },
    {
      "cell_type": "code",
      "metadata": {
        "id": "wcNKB1iL0l6g",
        "colab_type": "code",
        "colab": {}
      },
      "source": [
        "@tf.function\n",
        "def test_step(images, labels):\n",
        "  # training=False is only needed if there are layers with different\n",
        "  # behavior during training versus inference (e.g. Dropout).\n",
        "  predictions = model(images, training=False)\n",
        "  t_loss = loss_object(labels, predictions)\n",
        "\n",
        "  test_loss(t_loss)\n",
        "  test_accuracy(labels, predictions)"
      ],
      "execution_count": 0,
      "outputs": []
    },
    {
      "cell_type": "code",
      "metadata": {
        "colab_type": "code",
        "id": "N6d1niOQ-QlZ",
        "outputId": "0807d3df-b1d1-47da-8de8-0608530a2091",
        "colab": {
          "base_uri": "https://localhost:8080/",
          "height": 1000
        }
      },
      "source": [
        "tf.keras.backend.set_floatx('float64')\n",
        "EPOCHS = 100 #@param {type:\"slider\", min:10, max:200, step:5}\n",
        "Accuracy = []\n",
        "TestAccuracy = []\n",
        "for epoch in range(EPOCHS):\n",
        "  # Reset the metrics at the start of the next epoch\n",
        "  train_loss.reset_states()\n",
        "  train_accuracy.reset_states()\n",
        "  test_loss.reset_states()\n",
        "  test_accuracy.reset_states()\n",
        "\n",
        "  for images, labels in train_ds:\n",
        "    train_step(images, labels)\n",
        "\n",
        "  for test_images, test_labels in test_ds:\n",
        "    test_step(test_images, test_labels)\n",
        "\n",
        "  template = 'Epoch {}, Loss: {}, Accuracy: {}, Test Loss: {}, Test Accuracy: {}'\n",
        "  print(template.format(epoch+1,\n",
        "                        train_loss.result(),\n",
        "                        train_accuracy.result()*100,\n",
        "                        test_loss.result(),\n",
        "                        test_accuracy.result()*100))\n",
        "  Accuracy.append(train_accuracy.result()*100)\n",
        "  TestAccuracy.append(test_accuracy.result()*100)\n"
      ],
      "execution_count": 41,
      "outputs": [
        {
          "output_type": "stream",
          "text": [
            "WARNING:tensorflow:Layer my_model is casting an input tensor from dtype float64 to the layer's dtype of float32, which is new behavior in TensorFlow 2.  The layer has dtype float32 because it's dtype defaults to floatx.\n",
            "\n",
            "If you intended to run this layer in float32, you can safely ignore this warning. If in doubt, this warning is likely only an issue if you are porting a TensorFlow 1.X model to TensorFlow 2.\n",
            "\n",
            "To change all layers to have dtype float64 by default, call `tf.keras.backend.set_floatx('float64')`. To change just this layer, pass dtype='float64' to the layer constructor. If you are the author of this layer, you can disable autocasting by passing autocast=False to the base Layer constructor.\n",
            "\n",
            "Epoch 1, Loss: 1.6527457237243652, Accuracy: 34.40662384033203, Test Loss: 1.4807345867156982, Test Accuracy: 43.90507125854492\n",
            "Epoch 2, Loss: 1.4077739715576172, Accuracy: 46.006160736083984, Test Loss: 1.3565442562103271, Test Accuracy: 47.54584884643555\n",
            "Epoch 3, Loss: 1.2918390035629272, Accuracy: 50.989959716796875, Test Loss: 1.2876070737838745, Test Accuracy: 51.699031829833984\n",
            "Epoch 4, Loss: 1.2188905477523804, Accuracy: 53.88184356689453, Test Loss: 1.223616123199463, Test Accuracy: 53.182308197021484\n",
            "Epoch 5, Loss: 1.1561154127120972, Accuracy: 56.56973648071289, Test Loss: 1.2035192251205444, Test Accuracy: 54.476810455322266\n",
            "Epoch 6, Loss: 1.101352572441101, Accuracy: 58.62165832519531, Test Loss: 1.205234408378601, Test Accuracy: 55.39374542236328\n",
            "Epoch 7, Loss: 1.0541731119155884, Accuracy: 60.7735710144043, Test Loss: 1.2134335041046143, Test Accuracy: 53.88349151611328\n",
            "Epoch 8, Loss: 1.0045013427734375, Accuracy: 62.33750534057617, Test Loss: 1.198534369468689, Test Accuracy: 55.77130126953125\n",
            "Epoch 9, Loss: 0.9514166116714478, Accuracy: 64.54541778564453, Test Loss: 1.1622470617294312, Test Accuracy: 57.06580352783203\n",
            "Epoch 10, Loss: 0.8906928896903992, Accuracy: 67.04931640625, Test Loss: 1.2141714096069336, Test Accuracy: 56.52642822265625\n",
            "Epoch 11, Loss: 0.8368340730667114, Accuracy: 69.2412338256836, Test Loss: 1.258284330368042, Test Accuracy: 55.852210998535156\n",
            "Epoch 12, Loss: 0.7786613702774048, Accuracy: 71.38914489746094, Test Loss: 1.2719801664352417, Test Accuracy: 56.148868560791016\n",
            "Epoch 13, Loss: 0.725618302822113, Accuracy: 73.25707244873047, Test Loss: 1.3781157732009888, Test Accuracy: 55.852210998535156\n",
            "Epoch 14, Loss: 0.6634202003479004, Accuracy: 75.64497375488281, Test Loss: 1.4294463396072388, Test Accuracy: 56.52642822265625\n",
            "Epoch 15, Loss: 0.6108486652374268, Accuracy: 77.74888610839844, Test Loss: 1.486907720565796, Test Accuracy: 55.90614700317383\n",
            "Epoch 16, Loss: 0.5567431449890137, Accuracy: 79.83280181884766, Test Loss: 1.5683562755584717, Test Accuracy: 55.01618194580078\n",
            "Epoch 17, Loss: 0.5049154758453369, Accuracy: 81.76472473144531, Test Loss: 1.6719146966934204, Test Accuracy: 54.55771255493164\n",
            "Epoch 18, Loss: 0.4657123386859894, Accuracy: 83.04067993164062, Test Loss: 1.7535053491592407, Test Accuracy: 54.23408889770508\n",
            "Epoch 19, Loss: 0.4162638485431671, Accuracy: 85.10859680175781, Test Loss: 1.851702332496643, Test Accuracy: 56.148868560791016\n",
            "Epoch 20, Loss: 0.3759051561355591, Accuracy: 86.44054412841797, Test Loss: 1.9844974279403687, Test Accuracy: 54.36893081665039\n",
            "Epoch 21, Loss: 0.335449755191803, Accuracy: 87.83648681640625, Test Loss: 2.1592302322387695, Test Accuracy: 53.425025939941406\n",
            "Epoch 22, Loss: 0.3079419732093811, Accuracy: 89.06443786621094, Test Loss: 2.258030652999878, Test Accuracy: 54.58468246459961\n",
            "Epoch 23, Loss: 0.28473174571990967, Accuracy: 89.7684097290039, Test Loss: 2.354248285293579, Test Accuracy: 53.290184020996094\n",
            "Epoch 24, Loss: 0.2525167167186737, Accuracy: 90.96035766601562, Test Loss: 2.540011405944824, Test Accuracy: 53.12837219238281\n",
            "Epoch 25, Loss: 0.23242565989494324, Accuracy: 91.80032348632812, Test Loss: 2.751779317855835, Test Accuracy: 53.77561950683594\n",
            "Epoch 26, Loss: 0.2217680662870407, Accuracy: 92.10831451416016, Test Loss: 2.879819393157959, Test Accuracy: 52.21143341064453\n",
            "Epoch 27, Loss: 0.20123730599880219, Accuracy: 92.91227722167969, Test Loss: 2.922389030456543, Test Accuracy: 52.535057067871094\n",
            "Epoch 28, Loss: 0.18630126118659973, Accuracy: 93.44026184082031, Test Loss: 3.066819667816162, Test Accuracy: 53.3980598449707\n",
            "Epoch 29, Loss: 0.17461667954921722, Accuracy: 93.79624938964844, Test Loss: 3.301586627960205, Test Accuracy: 52.15749740600586\n",
            "Epoch 30, Loss: 0.1773935854434967, Accuracy: 93.67625427246094, Test Loss: 3.3065431118011475, Test Accuracy: 54.61165237426758\n",
            "Epoch 31, Loss: 0.15408955514431, Accuracy: 94.68021392822266, Test Loss: 3.4846444129943848, Test Accuracy: 53.50593185424805\n",
            "Epoch 32, Loss: 0.1437351256608963, Accuracy: 94.87620544433594, Test Loss: 3.6453864574432373, Test Accuracy: 54.36893081665039\n",
            "Epoch 33, Loss: 0.15125663578510284, Accuracy: 94.6722183227539, Test Loss: 3.7631852626800537, Test Accuracy: 52.48112106323242\n",
            "Epoch 34, Loss: 0.1494389772415161, Accuracy: 94.74821472167969, Test Loss: 3.8142342567443848, Test Accuracy: 52.804744720458984\n",
            "Epoch 35, Loss: 0.13689875602722168, Accuracy: 95.36418151855469, Test Loss: 3.771305799484253, Test Accuracy: 53.31715393066406\n",
            "Epoch 36, Loss: 0.12934495508670807, Accuracy: 95.61617279052734, Test Loss: 4.0745439529418945, Test Accuracy: 53.04746627807617\n",
            "Epoch 37, Loss: 0.1298101842403412, Accuracy: 95.46417999267578, Test Loss: 3.9913101196289062, Test Accuracy: 52.42718505859375\n",
            "Epoch 38, Loss: 0.11486958712339401, Accuracy: 96.03616333007812, Test Loss: 4.296380043029785, Test Accuracy: 53.04746627807617\n",
            "Epoch 39, Loss: 0.12433133274316788, Accuracy: 95.5801773071289, Test Loss: 4.215066909790039, Test Accuracy: 53.236244201660156\n",
            "Epoch 40, Loss: 0.11870312690734863, Accuracy: 96.05615997314453, Test Loss: 4.272740364074707, Test Accuracy: 53.451995849609375\n",
            "Epoch 41, Loss: 0.12368389219045639, Accuracy: 95.7961654663086, Test Loss: 4.324066638946533, Test Accuracy: 53.0204963684082\n",
            "Epoch 42, Loss: 0.11333360522985458, Accuracy: 96.13615417480469, Test Loss: 4.419377326965332, Test Accuracy: 53.3980598449707\n",
            "Epoch 43, Loss: 0.11919740587472916, Accuracy: 96.0081558227539, Test Loss: 4.58126163482666, Test Accuracy: 53.371089935302734\n",
            "Epoch 44, Loss: 0.11025303602218628, Accuracy: 96.25614929199219, Test Loss: 4.5712385177612305, Test Accuracy: 53.640777587890625\n",
            "Epoch 45, Loss: 0.09596815705299377, Accuracy: 96.90412139892578, Test Loss: 4.760827541351318, Test Accuracy: 53.667747497558594\n",
            "Epoch 46, Loss: 0.11674191057682037, Accuracy: 96.13615417480469, Test Loss: 4.630502700805664, Test Accuracy: 52.29233932495117\n",
            "Epoch 47, Loss: 0.10238730162382126, Accuracy: 96.588134765625, Test Loss: 4.724503993988037, Test Accuracy: 53.371089935302734\n",
            "Epoch 48, Loss: 0.10398685187101364, Accuracy: 96.48414611816406, Test Loss: 5.020777702331543, Test Accuracy: 51.80690383911133\n",
            "Epoch 49, Loss: 0.10395614057779312, Accuracy: 96.49214172363281, Test Loss: 4.868903636932373, Test Accuracy: 53.3980598449707\n",
            "Epoch 50, Loss: 0.1064983457326889, Accuracy: 96.45613861083984, Test Loss: 5.0174970626831055, Test Accuracy: 53.47896194458008\n",
            "Epoch 51, Loss: 0.09292138367891312, Accuracy: 96.89612579345703, Test Loss: 5.118771076202393, Test Accuracy: 51.91477966308594\n",
            "Epoch 52, Loss: 0.0948524996638298, Accuracy: 96.9001235961914, Test Loss: 5.122296333312988, Test Accuracy: 53.613807678222656\n",
            "Epoch 53, Loss: 0.09770087152719498, Accuracy: 96.8081283569336, Test Loss: 5.121931076049805, Test Accuracy: 53.721683502197266\n",
            "Epoch 54, Loss: 0.08838681131601334, Accuracy: 97.20811462402344, Test Loss: 5.029656887054443, Test Accuracy: 52.69687271118164\n",
            "Epoch 55, Loss: 0.09766042232513428, Accuracy: 96.57213592529297, Test Loss: 5.088599681854248, Test Accuracy: 52.13052749633789\n",
            "Epoch 56, Loss: 0.101580411195755, Accuracy: 96.61613464355469, Test Loss: 5.176504135131836, Test Accuracy: 53.0204963684082\n",
            "Epoch 57, Loss: 0.08441656082868576, Accuracy: 97.26811218261719, Test Loss: 5.285629749298096, Test Accuracy: 52.50809097290039\n",
            "Epoch 58, Loss: 0.10481098294258118, Accuracy: 96.72013092041016, Test Loss: 5.333338737487793, Test Accuracy: 52.804744720458984\n",
            "Epoch 59, Loss: 0.09423185884952545, Accuracy: 96.880126953125, Test Loss: 5.321630477905273, Test Accuracy: 52.319313049316406\n",
            "Epoch 60, Loss: 0.07909782975912094, Accuracy: 97.46410369873047, Test Loss: 5.28328800201416, Test Accuracy: 54.04530715942383\n",
            "Epoch 61, Loss: 0.088824063539505, Accuracy: 97.16011047363281, Test Loss: 5.435549736022949, Test Accuracy: 52.37324905395508\n",
            "Epoch 62, Loss: 0.0974389985203743, Accuracy: 96.9481201171875, Test Loss: 5.63892126083374, Test Accuracy: 52.50809097290039\n",
            "Epoch 63, Loss: 0.07978972792625427, Accuracy: 97.56009674072266, Test Loss: 5.694598197937012, Test Accuracy: 51.32146453857422\n",
            "Epoch 64, Loss: 0.10599446296691895, Accuracy: 96.588134765625, Test Loss: 5.759280681610107, Test Accuracy: 52.96656036376953\n",
            "Epoch 65, Loss: 0.07538484036922455, Accuracy: 97.66009521484375, Test Loss: 5.555222988128662, Test Accuracy: 52.56202697753906\n",
            "Epoch 66, Loss: 0.08765293657779694, Accuracy: 97.27610778808594, Test Loss: 5.528946876525879, Test Accuracy: 52.535057067871094\n",
            "Epoch 67, Loss: 0.08861085772514343, Accuracy: 97.18811798095703, Test Loss: 5.582116603851318, Test Accuracy: 52.96656036376953\n",
            "Epoch 68, Loss: 0.08708371222019196, Accuracy: 97.37210083007812, Test Loss: 5.68010950088501, Test Accuracy: 53.101402282714844\n",
            "Epoch 69, Loss: 0.09319841861724854, Accuracy: 97.0481185913086, Test Loss: 5.6240458488464355, Test Accuracy: 53.26321792602539\n",
            "Epoch 70, Loss: 0.07761656492948532, Accuracy: 97.70409393310547, Test Loss: 5.606212615966797, Test Accuracy: 53.6947135925293\n",
            "Epoch 71, Loss: 0.08048876374959946, Accuracy: 97.38810729980469, Test Loss: 5.6986918449401855, Test Accuracy: 52.02265548706055\n",
            "Epoch 72, Loss: 0.09265148639678955, Accuracy: 97.0721206665039, Test Loss: 5.9709792137146, Test Accuracy: 53.371089935302734\n",
            "Epoch 73, Loss: 0.08733679354190826, Accuracy: 97.27210998535156, Test Loss: 5.837189197540283, Test Accuracy: 54.0992431640625\n",
            "Epoch 74, Loss: 0.06722179055213928, Accuracy: 97.92808532714844, Test Loss: 5.933279514312744, Test Accuracy: 52.5890007019043\n",
            "Epoch 75, Loss: 0.09057950228452682, Accuracy: 97.1401138305664, Test Loss: 5.816971302032471, Test Accuracy: 53.155338287353516\n",
            "Epoch 76, Loss: 0.07478708773851395, Accuracy: 97.77609252929688, Test Loss: 5.947833061218262, Test Accuracy: 54.01833724975586\n",
            "Epoch 77, Loss: 0.07841189950704575, Accuracy: 97.48809814453125, Test Loss: 6.100708484649658, Test Accuracy: 53.26321792602539\n",
            "Epoch 78, Loss: 0.08505980670452118, Accuracy: 97.3801040649414, Test Loss: 5.837020397186279, Test Accuracy: 52.91262435913086\n",
            "Epoch 79, Loss: 0.1002887710928917, Accuracy: 96.74813079833984, Test Loss: 5.986706256866455, Test Accuracy: 53.155338287353516\n",
            "Epoch 80, Loss: 0.07203353196382523, Accuracy: 97.73609161376953, Test Loss: 5.882858753204346, Test Accuracy: 52.96656036376953\n",
            "Epoch 81, Loss: 0.06694734841585159, Accuracy: 97.9800796508789, Test Loss: 6.037055015563965, Test Accuracy: 52.615962982177734\n",
            "Epoch 82, Loss: 0.08355642855167389, Accuracy: 97.4281005859375, Test Loss: 5.9932169914245605, Test Accuracy: 54.04530715942383\n",
            "Epoch 83, Loss: 0.06304281204938889, Accuracy: 98.13207244873047, Test Loss: 6.166779518127441, Test Accuracy: 53.3980598449707\n",
            "Epoch 84, Loss: 0.08107581734657288, Accuracy: 97.6200942993164, Test Loss: 6.144958972930908, Test Accuracy: 54.31499481201172\n",
            "Epoch 85, Loss: 0.07258406281471252, Accuracy: 97.80809020996094, Test Loss: 6.245635986328125, Test Accuracy: 53.47896194458008\n",
            "Epoch 86, Loss: 0.08526580035686493, Accuracy: 97.25211334228516, Test Loss: 6.148746013641357, Test Accuracy: 52.10356140136719\n",
            "Epoch 87, Loss: 0.06772106140851974, Accuracy: 97.90008544921875, Test Loss: 6.225843906402588, Test Accuracy: 53.58684158325195\n",
            "Epoch 88, Loss: 0.07656817138195038, Accuracy: 97.71609497070312, Test Loss: 6.481091022491455, Test Accuracy: 52.535057067871094\n",
            "Epoch 89, Loss: 0.06967820972204208, Accuracy: 97.87608337402344, Test Loss: 6.460601329803467, Test Accuracy: 54.53074645996094\n",
            "Epoch 90, Loss: 0.07860461622476578, Accuracy: 97.60009765625, Test Loss: 6.418133735656738, Test Accuracy: 53.371089935302734\n",
            "Epoch 91, Loss: 0.0751877874135971, Accuracy: 97.72409057617188, Test Loss: 6.261295795440674, Test Accuracy: 53.371089935302734\n",
            "Epoch 92, Loss: 0.0731205940246582, Accuracy: 97.80809020996094, Test Loss: 6.403014183044434, Test Accuracy: 53.58684158325195\n",
            "Epoch 93, Loss: 0.069437175989151, Accuracy: 97.93208312988281, Test Loss: 6.318772792816162, Test Accuracy: 53.856529235839844\n",
            "Epoch 94, Loss: 0.07262952625751495, Accuracy: 97.69609069824219, Test Loss: 6.351723670959473, Test Accuracy: 52.96656036376953\n",
            "Epoch 95, Loss: 0.06850571185350418, Accuracy: 97.96007537841797, Test Loss: 6.497603416442871, Test Accuracy: 53.80259323120117\n",
            "Epoch 96, Loss: 0.07231676578521729, Accuracy: 97.84408569335938, Test Loss: 6.361172199249268, Test Accuracy: 52.72384262084961\n",
            "Epoch 97, Loss: 0.07359422743320465, Accuracy: 97.64409637451172, Test Loss: 6.242234706878662, Test Accuracy: 52.5890007019043\n",
            "Epoch 98, Loss: 0.06897138804197311, Accuracy: 97.85208892822266, Test Loss: 6.743175029754639, Test Accuracy: 53.53290557861328\n",
            "Epoch 99, Loss: 0.07787387073040009, Accuracy: 97.6720962524414, Test Loss: 6.705842971801758, Test Accuracy: 52.56202697753906\n",
            "Epoch 100, Loss: 0.061982735991477966, Accuracy: 98.1960678100586, Test Loss: 6.702689170837402, Test Accuracy: 53.613807678222656\n"
          ],
          "name": "stdout"
        }
      ]
    },
    {
      "cell_type": "code",
      "metadata": {
        "id": "bx6vdmF13HSR",
        "colab_type": "code",
        "colab": {
          "base_uri": "https://localhost:8080/",
          "height": 621
        },
        "outputId": "a4c68d3b-da77-4f74-83e6-7b79960400a9"
      },
      "source": [
        "fig, ax= plt.subplots(figsize=(13,10))\n",
        "ax.plot(Accuracy,color=\"Black\")\n",
        "ax.plot(TestAccuracy,color=\"Red\")\n",
        "ax.grid(True)\n",
        "plt.xlabel(\"Epochs\",color=\"White\")\n",
        "plt.ylabel(\"Accuracy\",color=\"White\")\n",
        "plt.legend([\"Train\",\"Test\"])\n",
        "plt.title(f\"Best Achievd Accuracy is {train_accuracy.result()*100:.2f}%\",color=\"White\")\n",
        "plt.show()"
      ],
      "execution_count": 43,
      "outputs": [
        {
          "output_type": "display_data",
          "data": {
            "image/png": "[encoded data removed]",
            "text/plain": [
              "<Figure size 936x720 with 1 Axes>"
            ]
          },
          "metadata": {
            "tags": []
          }
        }
      ]
    },
    {
      "cell_type": "code",
      "metadata": {
        "id": "x0fH6UaWFcOy",
        "colab_type": "code",
        "colab": {}
      },
      "source": [
        ""
      ],
      "execution_count": 0,
      "outputs": []
    }
  ]
}